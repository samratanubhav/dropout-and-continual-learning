{
 "cells": [
  {
   "cell_type": "code",
   "execution_count": 1,
   "id": "dd49c891-82d0-4fb2-b8b8-8f0527dfb5e8",
   "metadata": {},
   "outputs": [],
   "source": [
    "import numpy as np\n",
    "import pandas as pd\n",
    "import matplotlib.pyplot as plt\n",
    "import seaborn as sns\n",
    "import tensorflow as tf\n",
    "from tensorflow.keras.preprocessing.image import ImageDataGenerator\n",
    "from sklearn.model_selection import train_test_split\n",
    "from scipy.ndimage import rotate"
   ]
  },
  {
   "cell_type": "code",
   "execution_count": 2,
   "id": "2bd067a0-34c7-4033-ad66-d5bc569961b2",
   "metadata": {},
   "outputs": [],
   "source": [
    "(x_train, y_train), (x_test, y_test) = tf.keras.datasets.mnist.load_data()"
   ]
  },
  {
   "cell_type": "code",
   "execution_count": 3,
   "id": "b047ffa8-1d28-40b1-b968-4cdf0dc388eb",
   "metadata": {},
   "outputs": [
    {
     "data": {
      "text/plain": [
       "6"
      ]
     },
     "execution_count": 3,
     "metadata": {},
     "output_type": "execute_result"
    }
   ],
   "source": [
    "y_train[4572]"
   ]
  },
  {
   "cell_type": "code",
   "execution_count": 4,
   "id": "c6827543-9eb7-4f32-ac83-261725e4ad93",
   "metadata": {},
   "outputs": [],
   "source": [
    "X = np.concatenate((x_train, x_test))\n",
    "Y = np.concatenate((y_train, y_test))"
   ]
  },
  {
   "cell_type": "code",
   "execution_count": 8,
   "id": "eb0a67ca-50d3-4cf1-9eb7-7445e145e296",
   "metadata": {},
   "outputs": [],
   "source": [
    "l = []\n",
    "for i in range(5):\n",
    "    l.append([])\n",
    "    for img in X:\n",
    "        l[i].append(rotate(img,10*i, reshape = False))"
   ]
  },
  {
   "cell_type": "code",
   "execution_count": 9,
   "id": "99d487cf-1252-475b-9db5-e4aed66b9be7",
   "metadata": {},
   "outputs": [],
   "source": [
    "train = []\n",
    "test = []\n",
    "\n",
    "for item in l:\n",
    "    train.append(item[0:60000])\n",
    "    test.append(item[60000:])"
   ]
  },
  {
   "cell_type": "code",
   "execution_count": 10,
   "id": "e54fa89d-d460-43c4-9273-b279b4abbf3c",
   "metadata": {},
   "outputs": [
    {
     "data": {
      "text/plain": [
       "10000"
      ]
     },
     "execution_count": 10,
     "metadata": {},
     "output_type": "execute_result"
    }
   ],
   "source": [
    "len(test[0])"
   ]
  },
  {
   "cell_type": "code",
   "execution_count": 11,
   "id": "6e487621-f026-4080-9f52-9cd89e3f5ca6",
   "metadata": {},
   "outputs": [],
   "source": [
    "Xtrain = []\n",
    "for i in train:\n",
    "    Xtrain.append(np.array(i).reshape(60000,784))"
   ]
  },
  {
   "cell_type": "code",
   "execution_count": 12,
   "id": "211978c8-d940-4f3c-90c5-7e5cff295d77",
   "metadata": {},
   "outputs": [
    {
     "data": {
      "text/plain": [
       "(60000, 784)"
      ]
     },
     "execution_count": 12,
     "metadata": {},
     "output_type": "execute_result"
    }
   ],
   "source": [
    "Xtrain[4].shape"
   ]
  },
  {
   "cell_type": "code",
   "execution_count": 13,
   "id": "583415ba-ce15-4cc9-890a-e25ef1f3e4ec",
   "metadata": {},
   "outputs": [],
   "source": [
    "Xtest = []\n",
    "for i in test:\n",
    "    Xtest.append(np.array(i).reshape(10000,784))"
   ]
  },
  {
   "cell_type": "code",
   "execution_count": 14,
   "id": "c5d9b97d-aaf7-4c66-bad1-5d79385c41c3",
   "metadata": {},
   "outputs": [
    {
     "data": {
      "text/plain": [
       "(10000, 784)"
      ]
     },
     "execution_count": 14,
     "metadata": {},
     "output_type": "execute_result"
    }
   ],
   "source": [
    "Xtest[4].shape"
   ]
  },
  {
   "cell_type": "code",
   "execution_count": 15,
   "id": "62c86067-a150-4658-b140-0c2f33da516c",
   "metadata": {},
   "outputs": [],
   "source": [
    "X_train = Xtrain\n",
    "X_test = Xtest"
   ]
  },
  {
   "cell_type": "code",
   "execution_count": 16,
   "id": "8514a75c-0ac3-4246-b43f-36079ff52970",
   "metadata": {},
   "outputs": [
    {
     "data": {
      "text/plain": [
       "5"
      ]
     },
     "execution_count": 16,
     "metadata": {},
     "output_type": "execute_result"
    }
   ],
   "source": [
    "len(X_train)"
   ]
  },
  {
   "cell_type": "code",
   "execution_count": 17,
   "id": "85229c54-0a26-4114-bb09-2b80ceef282f",
   "metadata": {},
   "outputs": [],
   "source": [
    "#one hot encoding\n",
    "Y_train = np.eye(10)[y_train]\n",
    "Y_test = np.eye(10)[y_test]"
   ]
  },
  {
   "cell_type": "code",
   "execution_count": 18,
   "id": "42d3cd75-260a-4651-adff-145f8b224684",
   "metadata": {},
   "outputs": [],
   "source": [
    "n_hidden_1 = 256\n",
    "n_hidden_2 = 256\n",
    "n_input = 784\n",
    "n_classes = 10\n"
   ]
  },
  {
   "cell_type": "code",
   "execution_count": 19,
   "id": "a8637f05-dcdb-47af-9444-7e34037f5049",
   "metadata": {},
   "outputs": [],
   "source": [
    "tf.compat.v1.disable_eager_execution()"
   ]
  },
  {
   "cell_type": "code",
   "execution_count": 20,
   "id": "5519a1d8-c1f8-4d6b-914c-35b07d7423c3",
   "metadata": {},
   "outputs": [],
   "source": [
    "x = tf.compat.v1.placeholder(tf.float32, [None, 784])\n",
    "y_ = tf.compat.v1.placeholder(tf.float32, [None, 10])\n",
    "keep_prob = tf.compat.v1.placeholder(tf.float32)\n",
    "rate = tf.compat.v1.placeholder_with_default(0.0, shape=())"
   ]
  },
  {
   "cell_type": "code",
   "execution_count": 21,
   "id": "6d55d987-40c1-4ad6-b665-27ed2b81d725",
   "metadata": {},
   "outputs": [],
   "source": [
    "batch_size = 64\n",
    "learning_rate = 0.01\n",
    "momentum = 0.8"
   ]
  },
  {
   "cell_type": "code",
   "execution_count": 22,
   "id": "b3cf9bff-2118-4ab6-a2c8-c9479a3fd188",
   "metadata": {},
   "outputs": [],
   "source": [
    "# https://arxiv.org/pdf/1707.09725.pdf#page=95\n",
    "# for relu lates\n",
    "# If we sample weights from a normal distribution N(0,σ) we satisfy this condition with σ=√(2/(ni). \n",
    "# h1 =>  σ=√(2/(fan_in+1) = 0.062  => N(0,σ) = N(0,0.062)\n",
    "# h2 =>  σ=√(2/(fan_in+1) = 0.125  => N(0,σ) = N(0,0.125)\n",
    "# out =>  σ=√(2/(fan_in+1) = 0.120  => N(0,σ) = N(0,0.120)\n",
    "# He Normal initialization.\n",
    "weights = {\n",
    "    'h1': tf.Variable(tf.random.normal([n_input, n_hidden_1],stddev=0.062, mean=0)),    #784x512\n",
    "    'h2': tf.Variable(tf.random.normal([n_hidden_1, n_hidden_2],stddev=0.125, mean=0)), #512x128\n",
    "    'out': tf.Variable(tf.random.normal([n_hidden_2, n_classes],stddev=0.120, mean=0))  #128x10\n",
    "}\n",
    "\n",
    "biases = {\n",
    "    'b1': tf.compat.v1.Variable(tf.random.normal([n_hidden_1])),             #512x1\n",
    "    'b2': tf.compat.v1.Variable(tf.random.normal([n_hidden_2])),             #128x1\n",
    "    'out': tf.compat.v1.Variable(tf.random.normal([n_classes]))              #10x1\n",
    "}"
   ]
  },
  {
   "cell_type": "code",
   "execution_count": 23,
   "id": "9884bdc5-b181-4f15-860f-ab2e440a50e1",
   "metadata": {},
   "outputs": [],
   "source": [
    "# Parameters\n",
    "training_epochs = 5\n",
    "batch_size = 64\n",
    "display_step = 1\n",
    "ntasks = 5"
   ]
  },
  {
   "cell_type": "code",
   "execution_count": 24,
   "id": "625b2a09-c7c0-4d98-8a7a-c9fbe1d6a67c",
   "metadata": {},
   "outputs": [],
   "source": [
    "def generate_batches(x,y,batch_size = 32):\n",
    "    assert x.shape[0]==y.shape[0],\\\n",
    "    '''\n",
    "    features and target must have same number of rows, instead features has {0} and target has {1}.\n",
    "    '''.format(X.shape[0],y.shape[0])\n",
    "    \n",
    "    n = x.shape[0]\n",
    "    \n",
    "    for i in range(0,n,batch_size):\n",
    "        yield x[i:i+batch_size],y[i:i+batch_size]\n",
    "    "
   ]
  },
  {
   "cell_type": "code",
   "execution_count": 25,
   "id": "08a95afd-a07b-4d15-9a37-5deaa31dc71c",
   "metadata": {},
   "outputs": [],
   "source": [
    "def initialize_lists(*lists,value = []):\n",
    "    for l in lists:\n",
    "        l.append(value)"
   ]
  },
  {
   "cell_type": "code",
   "execution_count": 26,
   "id": "9d923910-6031-4818-b994-df763d2c2381",
   "metadata": {},
   "outputs": [],
   "source": [
    "def mlp(x, weights, biases):\n",
    "    \n",
    "    print('Input Layer: ', x.shape, 'W[h1]: ', weights['h1'].shape, 'b[h1]: ', biases['b1'].shape )\n",
    "    \n",
    "    # Hidden Layer 1 with ReLU and Dropout\n",
    "    layer1 = tf.add( tf.matmul(x,weights['h1']),biases['b1'])\n",
    "    layer1 = tf.nn.relu(layer1)\n",
    "    \n",
    "    print('Hidden Layer 1: ', layer1.shape, 'W[h2]: ', weights['h2'].shape, 'b[h2]: ', biases['b2'].shape )\n",
    "    \n",
    "    # Hidden Layer 2 with ReLU activation and Dropout\n",
    "    layer2 = tf.add(tf.matmul(layer1, weights['h2']), biases['b2'])\n",
    "    layer2 = tf.nn.relu(layer2)\n",
    "    \n",
    "    print('Hidden Layer 2: ', layer2.shape, 'W[out]:', weights['out'].shape, 'b[out]:',biases['out'].shape)\n",
    "    \n",
    "    # OUtput Layer\n",
    "    output_layer = tf.add(tf.matmul(layer2, weights['out']), biases['out'])\n",
    "    output_layer = tf.nn.sigmoid(output_layer)\n",
    "    print('Output Layer: ', output_layer.shape)\n",
    "    \n",
    "    return output_layer "
   ]
  },
  {
   "cell_type": "code",
   "execution_count": 27,
   "id": "45e716a3-dcfc-4b86-95b9-a0ee260521c5",
   "metadata": {},
   "outputs": [
    {
     "name": "stdout",
     "output_type": "stream",
     "text": [
      "Input Layer:  (None, 784) W[h1]:  (784, 256) b[h1]:  (256,)\n",
      "Hidden Layer 1:  (None, 256) W[h2]:  (256, 256) b[h2]:  (256,)\n",
      "Hidden Layer 2:  (None, 256) W[out]: (256, 10) b[out]: (10,)\n",
      "Output Layer:  (None, 10)\n"
     ]
    }
   ],
   "source": [
    "y = mlp(x, weights, biases)"
   ]
  },
  {
   "cell_type": "code",
   "execution_count": 28,
   "id": "f72061f4-cca0-4832-aa1c-0a4d76a3adbf",
   "metadata": {},
   "outputs": [],
   "source": [
    "cost = tf.reduce_mean(tf.nn.softmax_cross_entropy_with_logits(logits = y, labels=y_ ))"
   ]
  },
  {
   "cell_type": "code",
   "execution_count": 29,
   "id": "9d8d26e0-8699-4a6e-93c0-049b5a976ab4",
   "metadata": {},
   "outputs": [],
   "source": [
    "global_step = tf.Variable(0, trainable=False)\n",
    "starter_learning_rate = 0.001\n",
    "learning_rate = tf.compat.v1.train.exponential_decay(starter_learning_rate,global_step,4650, 0.8)#, staircase=True)"
   ]
  },
  {
   "cell_type": "code",
   "execution_count": 30,
   "id": "37f93abe-3a4a-485b-ab06-5af3c34bff46",
   "metadata": {},
   "outputs": [],
   "source": [
    "optimizer = tf.compat.v1.train.MomentumOptimizer(learning_rate=learning_rate, momentum=0.8).minimize(cost, global_step=global_step)"
   ]
  },
  {
   "cell_type": "code",
   "execution_count": 31,
   "id": "2c0e0382-98a7-4795-a77f-096930da8083",
   "metadata": {},
   "outputs": [
    {
     "name": "stdout",
     "output_type": "stream",
     "text": [
      "***************Task 1 begins******************\n",
      "*******************EPOCH 1***********************\n",
      "\n",
      "Epoch: 0001 train cost=1.822046558 test cost=1.808985298\n",
      "Accuracy for task 1 epoch 1 = 0.7940999865531921 \n",
      "\n",
      "*******************EPOCH 2***********************\n",
      "\n",
      "Epoch: 0002 train cost=1.646276583 test cost=1.638540134\n",
      "Accuracy for task 1 epoch 2 = 0.855400025844574 \n",
      "\n",
      "*******************EPOCH 3***********************\n",
      "\n",
      "Epoch: 0003 train cost=1.610479582 test cost=1.602889872\n",
      "Accuracy for task 1 epoch 3 = 0.8751999735832214 \n",
      "\n",
      "*******************EPOCH 4***********************\n",
      "\n",
      "Epoch: 0004 train cost=1.590491380 test cost=1.583205647\n",
      "Accuracy for task 1 epoch 4 = 0.8880000114440918 \n",
      "\n",
      "*******************EPOCH 5***********************\n",
      "\n",
      "Epoch: 0005 train cost=1.579490904 test cost=1.575253935\n",
      "Accuracy for task 1 epoch 5 = 0.8824999928474426 \n",
      "\n",
      "***************Task 2 begins******************\n",
      "*******************EPOCH 1***********************\n",
      "\n",
      "Epoch: 0001 train cost=1.587838202 test cost=1.582969918\n",
      "Accuracy for task 1 epoch 1 = 0.8944000005722046 \n",
      "\n",
      "Accuracy for task 2 epoch 1 = 0.8913999795913696 \n",
      "\n",
      "*******************EPOCH 2***********************\n",
      "\n",
      "Epoch: 0002 train cost=1.571907168 test cost=1.567943191\n",
      "Accuracy for task 1 epoch 2 = 0.8669999837875366 \n",
      "\n",
      "Accuracy for task 2 epoch 2 = 0.8701000213623047 \n",
      "\n",
      "*******************EPOCH 3***********************\n",
      "\n",
      "Epoch: 0003 train cost=1.563992446 test cost=1.561815727\n",
      "Accuracy for task 1 epoch 3 = 0.8956999778747559 \n",
      "\n",
      "Accuracy for task 2 epoch 3 = 0.9081000089645386 \n",
      "\n",
      "*******************EPOCH 4***********************\n",
      "\n",
      "Epoch: 0004 train cost=1.557192159 test cost=1.553738515\n",
      "Accuracy for task 1 epoch 4 = 0.9021999835968018 \n",
      "\n",
      "Accuracy for task 2 epoch 4 = 0.9093999862670898 \n",
      "\n",
      "*******************EPOCH 5***********************\n",
      "\n",
      "Epoch: 0005 train cost=1.550524079 test cost=1.547828562\n",
      "Accuracy for task 1 epoch 5 = 0.89410001039505 \n",
      "\n",
      "Accuracy for task 2 epoch 5 = 0.9122999906539917 \n",
      "\n",
      "***************Task 3 begins******************\n",
      "*******************EPOCH 1***********************\n",
      "\n",
      "Epoch: 0001 train cost=1.580790037 test cost=1.574525688\n",
      "Accuracy for task 1 epoch 1 = 0.8791000247001648 \n",
      "\n",
      "Accuracy for task 2 epoch 1 = 0.9132000207901001 \n",
      "\n",
      "Accuracy for task 3 epoch 1 = 0.8880000114440918 \n",
      "\n",
      "*******************EPOCH 2***********************\n",
      "\n",
      "Epoch: 0002 train cost=1.567812396 test cost=1.561935198\n",
      "Accuracy for task 1 epoch 2 = 0.8701000213623047 \n",
      "\n",
      "Accuracy for task 2 epoch 2 = 0.9124000072479248 \n",
      "\n",
      "Accuracy for task 3 epoch 2 = 0.8995000123977661 \n",
      "\n",
      "*******************EPOCH 3***********************\n",
      "\n",
      "Epoch: 0003 train cost=1.559473478 test cost=1.554200475\n",
      "Accuracy for task 1 epoch 3 = 0.8787000179290771 \n",
      "\n",
      "Accuracy for task 2 epoch 3 = 0.9178000092506409 \n",
      "\n",
      "Accuracy for task 3 epoch 3 = 0.9043999910354614 \n",
      "\n",
      "*******************EPOCH 4***********************\n",
      "\n",
      "Epoch: 0004 train cost=1.552942817 test cost=1.548953349\n",
      "Accuracy for task 1 epoch 4 = 0.864799976348877 \n",
      "\n",
      "Accuracy for task 2 epoch 4 = 0.9150000214576721 \n",
      "\n",
      "Accuracy for task 3 epoch 4 = 0.9083999991416931 \n",
      "\n",
      "*******************EPOCH 5***********************\n",
      "\n",
      "Epoch: 0005 train cost=1.550706041 test cost=1.545881056\n",
      "Accuracy for task 1 epoch 5 = 0.8686000108718872 \n",
      "\n",
      "Accuracy for task 2 epoch 5 = 0.9197999835014343 \n",
      "\n",
      "Accuracy for task 3 epoch 5 = 0.9132999777793884 \n",
      "\n",
      "***************Task 4 begins******************\n",
      "*******************EPOCH 1***********************\n",
      "\n",
      "Epoch: 0001 train cost=1.585800311 test cost=1.578090947\n",
      "Accuracy for task 1 epoch 1 = 0.8373000025749207 \n",
      "\n",
      "Accuracy for task 2 epoch 1 = 0.9056000113487244 \n",
      "\n",
      "Accuracy for task 3 epoch 1 = 0.9189000129699707 \n",
      "\n",
      "Accuracy for task 4 epoch 1 = 0.8881999850273132 \n",
      "\n",
      "*******************EPOCH 2***********************\n",
      "\n",
      "Epoch: 0002 train cost=1.568278273 test cost=1.561651907\n",
      "Accuracy for task 1 epoch 2 = 0.8188999891281128 \n",
      "\n",
      "Accuracy for task 2 epoch 2 = 0.895799994468689 \n",
      "\n",
      "Accuracy for task 3 epoch 2 = 0.9121000170707703 \n",
      "\n",
      "Accuracy for task 4 epoch 2 = 0.8978999853134155 \n",
      "\n",
      "*******************EPOCH 3***********************\n",
      "\n",
      "Epoch: 0003 train cost=1.561943314 test cost=1.556407207\n",
      "Accuracy for task 1 epoch 3 = 0.8195000290870667 \n",
      "\n",
      "Accuracy for task 2 epoch 3 = 0.8960000276565552 \n",
      "\n",
      "Accuracy for task 3 epoch 3 = 0.9168999791145325 \n",
      "\n",
      "Accuracy for task 4 epoch 3 = 0.9004999995231628 \n",
      "\n",
      "*******************EPOCH 4***********************\n",
      "\n",
      "Epoch: 0004 train cost=1.556442496 test cost=1.550777469\n",
      "Accuracy for task 1 epoch 4 = 0.8151000142097473 \n",
      "\n",
      "Accuracy for task 2 epoch 4 = 0.8952999711036682 \n",
      "\n",
      "Accuracy for task 3 epoch 4 = 0.9168999791145325 \n",
      "\n",
      "Accuracy for task 4 epoch 4 = 0.9092000126838684 \n",
      "\n",
      "*******************EPOCH 5***********************\n",
      "\n",
      "Epoch: 0005 train cost=1.551491319 test cost=1.547461573\n",
      "Accuracy for task 1 epoch 5 = 0.8163999915122986 \n",
      "\n",
      "Accuracy for task 2 epoch 5 = 0.8955000042915344 \n",
      "\n",
      "Accuracy for task 3 epoch 5 = 0.9253000020980835 \n",
      "\n",
      "Accuracy for task 4 epoch 5 = 0.9136999845504761 \n",
      "\n",
      "***************Task 5 begins******************\n",
      "*******************EPOCH 1***********************\n",
      "\n",
      "Epoch: 0001 train cost=1.589068660 test cost=1.582038541\n",
      "Accuracy for task 1 epoch 1 = 0.7760000228881836 \n",
      "\n",
      "Accuracy for task 2 epoch 1 = 0.8725000023841858 \n",
      "\n",
      "Accuracy for task 3 epoch 1 = 0.9150999784469604 \n",
      "\n",
      "Accuracy for task 4 epoch 1 = 0.9168000221252441 \n",
      "\n",
      "Accuracy for task 5 epoch 1 = 0.879800021648407 \n",
      "\n",
      "*******************EPOCH 2***********************\n",
      "\n",
      "Epoch: 0002 train cost=1.574795096 test cost=1.568356867\n",
      "Accuracy for task 1 epoch 2 = 0.7531999945640564 \n",
      "\n",
      "Accuracy for task 2 epoch 2 = 0.8586999773979187 \n",
      "\n",
      "Accuracy for task 3 epoch 2 = 0.9092000126838684 \n",
      "\n",
      "Accuracy for task 4 epoch 2 = 0.9185000061988831 \n",
      "\n",
      "Accuracy for task 5 epoch 2 = 0.8950999975204468 \n",
      "\n",
      "*******************EPOCH 3***********************\n",
      "\n",
      "Epoch: 0003 train cost=1.566967600 test cost=1.561537704\n",
      "Accuracy for task 1 epoch 3 = 0.720300018787384 \n",
      "\n",
      "Accuracy for task 2 epoch 3 = 0.8356999754905701 \n",
      "\n",
      "Accuracy for task 3 epoch 3 = 0.8964999914169312 \n",
      "\n",
      "Accuracy for task 4 epoch 3 = 0.9126999974250793 \n",
      "\n",
      "Accuracy for task 5 epoch 3 = 0.8930000066757202 \n",
      "\n",
      "*******************EPOCH 4***********************\n",
      "\n",
      "Epoch: 0004 train cost=1.561125406 test cost=1.556299411\n",
      "Accuracy for task 1 epoch 4 = 0.7174000144004822 \n",
      "\n",
      "Accuracy for task 2 epoch 4 = 0.8381999731063843 \n",
      "\n",
      "Accuracy for task 3 epoch 4 = 0.8974000215530396 \n",
      "\n",
      "Accuracy for task 4 epoch 4 = 0.9185000061988831 \n",
      "\n",
      "Accuracy for task 5 epoch 4 = 0.9043999910354614 \n",
      "\n",
      "*******************EPOCH 5***********************\n",
      "\n",
      "Epoch: 0005 train cost=1.555000221 test cost=1.550906800\n",
      "Accuracy for task 1 epoch 5 = 0.7056000232696533 \n",
      "\n",
      "Accuracy for task 2 epoch 5 = 0.8246999979019165 \n",
      "\n",
      "Accuracy for task 3 epoch 5 = 0.8914999961853027 \n",
      "\n",
      "Accuracy for task 4 epoch 5 = 0.9156000018119812 \n",
      "\n",
      "Accuracy for task 5 epoch 5 = 0.9067000150680542 \n",
      "\n"
     ]
    },
    {
     "data": {
      "image/png": "[encoded data removed]",
      "text/plain": [
       "<Figure size 432x288 with 1 Axes>"
      ]
     },
     "metadata": {
      "needs_background": "light"
     },
     "output_type": "display_data"
    }
   ],
   "source": [
    "with tf.compat.v1.Session() as sess:\n",
    "    tf.compat.v1.global_variables_initializer().run()\n",
    "    accuracy_list = []\n",
    "    steps = 0\n",
    "    #learning_rate = 0.01\n",
    "    for task in range(ntasks):\n",
    "        accuracy_list.append([])\n",
    "        print('***************Task {} begins******************'.format(task+1))\n",
    "        #learning_rate *=0.8\n",
    "        #optimizer = tf.compat.v1.train.MomentumOptimizer(learning_rate=learning_rate, momentum=0.8).minimize(cost)\n",
    "        #tf.compat.v1.global_variables_initializer().run()\n",
    "        for epoch in range(5):\n",
    "            train_avg_cost = 0\n",
    "            test_avg_cost = 0\n",
    "            nbatches = int(X_train[task].shape[0]/batch_size)\n",
    "            \n",
    "            for i, (Xbatch, Ybatch) in enumerate(generate_batches(X_train[task], Y_train, batch_size = 64)):\n",
    "                _,c,w = sess.run([optimizer, cost, weights], feed_dict = {x: Xbatch, y_: Ybatch})\n",
    "                train_avg_cost += c/nbatches\n",
    "                c = sess.run(cost, feed_dict={x: X_test[task], y_: Y_test})\n",
    "                test_avg_cost += c/nbatches\n",
    "                #steps = steps + 1\n",
    "            #print('step epoch {} task {} = {}'.format(epoch,task,steps))    \n",
    "            correct_prediction = tf.equal(tf.argmax(y,1),tf.argmax(y_,1))\n",
    "            print('*******************EPOCH {}***********************\\n'.format(epoch+1))\n",
    "            print(\"Epoch:\", '%04d' % (epoch+1), \"train cost={:.9f}\".format(train_avg_cost), \"test cost={:.9f}\".format(test_avg_cost))\n",
    "            for i in range(task+1):\n",
    "                accuracy = tf.reduce_mean(tf.cast(correct_prediction,tf.float32)).eval({x: X_test[i], y_: Y_test})\n",
    "                accuracy_list[i].append(accuracy)\n",
    "                print('Accuracy for task {} epoch {} = {} \\n'.format(i+1,epoch+1, accuracy))\n",
    "    total_epochs = len(accuracy_list[0])\n",
    "    plt.plot(list(range(1,total_epochs+1)),accuracy_list[0], label = 'task 1')\n",
    "    plt.plot(list(range(6,total_epochs+1)),accuracy_list[1], label = 'task 2')\n",
    "    plt.plot(list(range(11,total_epochs+1)),accuracy_list[2], label = 'task 3')\n",
    "    plt.plot(list(range(16,total_epochs+1)),accuracy_list[3], label = 'task 4')\n",
    "    plt.plot(list(range(21,total_epochs+1)),accuracy_list[4], label = 'task 5')\n",
    "    plt.show()\n",
    "            \n"
   ]
  },
  {
   "cell_type": "code",
   "execution_count": 32,
   "id": "76d0013d-38df-4109-8c49-fedf32d90bf9",
   "metadata": {},
   "outputs": [],
   "source": [
    "accuracy_sgd = accuracy_list"
   ]
  },
  {
   "cell_type": "code",
   "execution_count": 106,
   "id": "a46d928f-4453-456f-a844-12626ae56419",
   "metadata": {},
   "outputs": [
    {
     "data": {
      "image/png": "[encoded data removed]",
      "text/plain": [
       "<Figure size 432x288 with 3 Axes>"
      ]
     },
     "metadata": {
      "needs_background": "light"
     },
     "output_type": "display_data"
    }
   ],
   "source": [
    "w_h1 = w['h1'].flatten()[:,np.newaxis]\n",
    "w_h2 = w['h2'].flatten()[:,np.newaxis]\n",
    "w_out = w['out'].flatten()[:,np.newaxis]\n",
    "\n",
    "fig = plt.figure()\n",
    "\n",
    "plt.subplot(131)\n",
    "plt.title('Weight Matrix')\n",
    "ax = sns.violinplot(y=w_h1,color='b')\n",
    "plt.xlabel('Hidden Layer 1')\n",
    "\n",
    "plt.subplot(132)\n",
    "plt.title('Weight Matrix')\n",
    "ax = sns.violinplot(y=w_h2, color='r')\n",
    "plt.xlabel('Hidden Layer 2')\n",
    "\n",
    "plt.subplot(133)\n",
    "plt.title('Weight matrix')\n",
    "ax = sns.violinplot(y=w_h2, color='g')\n",
    "plt.xlabel('Output Layer')\n",
    "\n",
    "plt.tight_layout()"
   ]
  },
  {
   "cell_type": "code",
   "execution_count": 107,
   "id": "ca0f0205-2f3c-486f-8479-47a5eeb3f997",
   "metadata": {},
   "outputs": [],
   "source": [
    "def mlp_dropout(x, weights, biases):\n",
    "    \n",
    "    print('Input Layer: ', x.shape, 'W[h1]: ', weights['h1'].shape, 'b[h1]: ', biases['b1'].shape )\n",
    "    \n",
    "    # Hidden Layer 1 woth ReLU and Dropout\n",
    "    layer1 = tf.add( tf.matmul(x,weights['h1']),biases['b1'])\n",
    "    layer1 = tf.compat.v1.nn.relu(layer1)\n",
    "    layer1_dropout = tf.compat.v1.nn.dropout(layer1, rate=rate)\n",
    "    \n",
    "    print('Hidden Layer 1: ', layer1.shape, 'W[h2]: ', weights['h2'].shape, 'b[h2]: ', biases['b2'].shape )\n",
    "    \n",
    "    # Hidden Layer 2 with ReLU activation and Dropout\n",
    "    layer2 = tf.add(tf.matmul(layer1_dropout, weights['h2']), biases['b2'])\n",
    "    layer2 = tf.compat.v1.nn.relu(layer2)\n",
    "    layer2_dropout = tf.compat.v1.nn.dropout(layer2,rate=rate)\n",
    "    \n",
    "    print('Hidden Layer 2: ', layer2.shape, 'W[out]:', weights['out'].shape, 'b[out]:',biases['out'].shape)\n",
    "    \n",
    "    # OUtput Layer\n",
    "    output_layer = tf.add(tf.matmul(layer2_dropout, weights['out']), biases['out'])\n",
    "    output_layer = tf.compat.v1.nn.sigmoid(output_layer)\n",
    "    print('Output Layer: ', output_layer.shape)\n",
    "    \n",
    "    return output_layer "
   ]
  },
  {
   "cell_type": "code",
   "execution_count": 108,
   "id": "06dc2f6b-a66e-4178-9ebf-ea3ea0575343",
   "metadata": {},
   "outputs": [
    {
     "name": "stdout",
     "output_type": "stream",
     "text": [
      "Input Layer:  (None, 784) W[h1]:  (784, 256) b[h1]:  (256,)\n",
      "Hidden Layer 1:  (None, 256) W[h2]:  (256, 256) b[h2]:  (256,)\n",
      "Hidden Layer 2:  (None, 256) W[out]: (256, 10) b[out]: (10,)\n",
      "Output Layer:  (None, 10)\n"
     ]
    }
   ],
   "source": [
    "ydrop = mlp_dropout(x, weights, biases)"
   ]
  },
  {
   "cell_type": "code",
   "execution_count": 109,
   "id": "d850774c-aa08-4598-ac4c-a1c4cfcd5ab5",
   "metadata": {},
   "outputs": [],
   "source": [
    "cost_dropout = tf.reduce_mean(tf.nn.softmax_cross_entropy_with_logits(logits = ydrop, labels=y_ ))"
   ]
  },
  {
   "cell_type": "code",
   "execution_count": 110,
   "id": "f723a437-4ef0-448d-944b-d5103bfb8009",
   "metadata": {},
   "outputs": [],
   "source": [
    "global_step = tf.Variable(0, trainable=False)\n",
    "starter_learning_rate = 0.001\n",
    "learning_rate = tf.compat.v1.train.exponential_decay(starter_learning_rate,global_step,4650, 0.8)#, staircase=True)"
   ]
  },
  {
   "cell_type": "code",
   "execution_count": 111,
   "id": "3f141f8a-685a-4bb5-ab62-6421eb2ad00d",
   "metadata": {},
   "outputs": [],
   "source": [
    "optimizer_dropout = tf.compat.v1.train.MomentumOptimizer(learning_rate=learning_rate, momentum=0.8).minimize(cost_dropout,global_step=global_step)"
   ]
  },
  {
   "cell_type": "code",
   "execution_count": 112,
   "id": "84a4b263-4d13-48dd-91b7-61344f814ead",
   "metadata": {},
   "outputs": [
    {
     "name": "stdout",
     "output_type": "stream",
     "text": [
      "***************Task 1 begins******************\n",
      "*******************EPOCH 1***********************\n",
      "\n",
      "Epoch: 0001 train cost=2.272753633 test cost=2.205174767\n",
      "Accuracy for task 1 epoch 1 = 0.5358999967575073 \n",
      "\n",
      "*******************EPOCH 2***********************\n",
      "\n",
      "Epoch: 0002 train cost=2.076366359 test cost=1.928819668\n",
      "Accuracy for task 1 epoch 2 = 0.5976999998092651 \n",
      "\n",
      "*******************EPOCH 3***********************\n",
      "\n",
      "Epoch: 0003 train cost=1.967900619 test cost=1.775511788\n",
      "Accuracy for task 1 epoch 3 = 0.7214999794960022 \n",
      "\n",
      "*******************EPOCH 4***********************\n",
      "\n",
      "Epoch: 0004 train cost=1.893891229 test cost=1.715649436\n",
      "Accuracy for task 1 epoch 4 = 0.7718999981880188 \n",
      "\n",
      "*******************EPOCH 5***********************\n",
      "\n",
      "Epoch: 0005 train cost=1.857600556 test cost=1.703023012\n",
      "Accuracy for task 1 epoch 5 = 0.7856000065803528 \n",
      "\n",
      "***************Task 2 begins******************\n",
      "*******************EPOCH 1***********************\n",
      "\n",
      "Epoch: 0001 train cost=1.842518049 test cost=1.704492867\n",
      "Accuracy for task 1 epoch 1 = 0.7768999934196472 \n",
      "\n",
      "Accuracy for task 2 epoch 1 = 0.756600022315979 \n",
      "\n",
      "*******************EPOCH 2***********************\n",
      "\n",
      "Epoch: 0002 train cost=1.807673852 test cost=1.684799845\n",
      "Accuracy for task 1 epoch 2 = 0.7914000153541565 \n",
      "\n",
      "Accuracy for task 2 epoch 2 = 0.7732999920845032 \n",
      "\n",
      "*******************EPOCH 3***********************\n",
      "\n",
      "Epoch: 0003 train cost=1.780610871 test cost=1.664662473\n",
      "Accuracy for task 1 epoch 3 = 0.8087000250816345 \n",
      "\n",
      "Accuracy for task 2 epoch 3 = 0.7982000112533569 \n",
      "\n",
      "*******************EPOCH 4***********************\n",
      "\n",
      "Epoch: 0004 train cost=1.761078895 test cost=1.652254707\n",
      "Accuracy for task 1 epoch 4 = 0.8137999773025513 \n",
      "\n",
      "Accuracy for task 2 epoch 4 = 0.8266000151634216 \n",
      "\n",
      "*******************EPOCH 5***********************\n",
      "\n",
      "Epoch: 0005 train cost=1.746976895 test cost=1.638848753\n",
      "Accuracy for task 1 epoch 5 = 0.8206999897956848 \n",
      "\n",
      "Accuracy for task 2 epoch 5 = 0.8323000073432922 \n",
      "\n",
      "***************Task 3 begins******************\n",
      "*******************EPOCH 1***********************\n",
      "\n",
      "Epoch: 0001 train cost=1.774518179 test cost=1.658303234\n",
      "Accuracy for task 1 epoch 1 = 0.8177000284194946 \n",
      "\n",
      "Accuracy for task 2 epoch 1 = 0.8446000218391418 \n",
      "\n",
      "Accuracy for task 3 epoch 1 = 0.8111000061035156 \n",
      "\n",
      "*******************EPOCH 2***********************\n",
      "\n",
      "Epoch: 0002 train cost=1.757968131 test cost=1.654300243\n",
      "Accuracy for task 1 epoch 2 = 0.8159999847412109 \n",
      "\n",
      "Accuracy for task 2 epoch 2 = 0.8651999831199646 \n",
      "\n",
      "Accuracy for task 3 epoch 2 = 0.8543999791145325 \n",
      "\n",
      "*******************EPOCH 3***********************\n",
      "\n",
      "Epoch: 0003 train cost=1.741197379 test cost=1.642362675\n",
      "Accuracy for task 1 epoch 3 = 0.823199987411499 \n",
      "\n",
      "Accuracy for task 2 epoch 3 = 0.8610000014305115 \n",
      "\n",
      "Accuracy for task 3 epoch 3 = 0.8420000076293945 \n",
      "\n",
      "*******************EPOCH 4***********************\n",
      "\n",
      "Epoch: 0004 train cost=1.727554220 test cost=1.637044243\n",
      "Accuracy for task 1 epoch 4 = 0.8123999834060669 \n",
      "\n",
      "Accuracy for task 2 epoch 4 = 0.858299970626831 \n",
      "\n",
      "Accuracy for task 3 epoch 4 = 0.8518000245094299 \n",
      "\n",
      "*******************EPOCH 5***********************\n",
      "\n",
      "Epoch: 0005 train cost=1.722356081 test cost=1.632208636\n",
      "Accuracy for task 1 epoch 5 = 0.8173999786376953 \n",
      "\n",
      "Accuracy for task 2 epoch 5 = 0.862500011920929 \n",
      "\n",
      "Accuracy for task 3 epoch 5 = 0.8482000231742859 \n",
      "\n",
      "***************Task 4 begins******************\n",
      "*******************EPOCH 1***********************\n",
      "\n",
      "Epoch: 0001 train cost=1.769098398 test cost=1.663499340\n",
      "Accuracy for task 1 epoch 1 = 0.791100025177002 \n",
      "\n",
      "Accuracy for task 2 epoch 1 = 0.8482999801635742 \n",
      "\n",
      "Accuracy for task 3 epoch 1 = 0.8508999943733215 \n",
      "\n",
      "Accuracy for task 4 epoch 1 = 0.7973999977111816 \n",
      "\n",
      "*******************EPOCH 2***********************\n",
      "\n",
      "Epoch: 0002 train cost=1.751661139 test cost=1.646480237\n",
      "Accuracy for task 1 epoch 2 = 0.7961999773979187 \n",
      "\n",
      "Accuracy for task 2 epoch 2 = 0.855400025844574 \n",
      "\n",
      "Accuracy for task 3 epoch 2 = 0.8603000044822693 \n",
      "\n",
      "Accuracy for task 4 epoch 2 = 0.8148000240325928 \n",
      "\n",
      "*******************EPOCH 3***********************\n",
      "\n",
      "Epoch: 0003 train cost=1.741244793 test cost=1.642952763\n",
      "Accuracy for task 1 epoch 3 = 0.7789999842643738 \n",
      "\n",
      "Accuracy for task 2 epoch 3 = 0.8427000045776367 \n",
      "\n",
      "Accuracy for task 3 epoch 3 = 0.8550999760627747 \n",
      "\n",
      "Accuracy for task 4 epoch 3 = 0.817799985408783 \n",
      "\n",
      "*******************EPOCH 4***********************\n",
      "\n",
      "Epoch: 0004 train cost=1.731979939 test cost=1.637845455\n",
      "Accuracy for task 1 epoch 4 = 0.7756999731063843 \n",
      "\n",
      "Accuracy for task 2 epoch 4 = 0.845300018787384 \n",
      "\n",
      "Accuracy for task 3 epoch 4 = 0.8633000254631042 \n",
      "\n",
      "Accuracy for task 4 epoch 4 = 0.8292999863624573 \n",
      "\n",
      "*******************EPOCH 5***********************\n",
      "\n",
      "Epoch: 0005 train cost=1.723226412 test cost=1.634451418\n",
      "Accuracy for task 1 epoch 5 = 0.7660999894142151 \n",
      "\n",
      "Accuracy for task 2 epoch 5 = 0.8339999914169312 \n",
      "\n",
      "Accuracy for task 3 epoch 5 = 0.849399983882904 \n",
      "\n",
      "Accuracy for task 4 epoch 5 = 0.8222000002861023 \n",
      "\n",
      "***************Task 5 begins******************\n",
      "*******************EPOCH 1***********************\n",
      "\n",
      "Epoch: 0001 train cost=1.788471606 test cost=1.685773728\n",
      "Accuracy for task 1 epoch 1 = 0.7501000165939331 \n",
      "\n",
      "Accuracy for task 2 epoch 1 = 0.8234999775886536 \n",
      "\n",
      "Accuracy for task 3 epoch 1 = 0.8495000004768372 \n",
      "\n",
      "Accuracy for task 4 epoch 1 = 0.8348000049591064 \n",
      "\n",
      "Accuracy for task 5 epoch 1 = 0.7699999809265137 \n",
      "\n",
      "*******************EPOCH 2***********************\n",
      "\n",
      "Epoch: 0002 train cost=1.767202855 test cost=1.668207494\n",
      "Accuracy for task 1 epoch 2 = 0.7430999875068665 \n",
      "\n",
      "Accuracy for task 2 epoch 2 = 0.8216999769210815 \n",
      "\n",
      "Accuracy for task 3 epoch 2 = 0.8510000109672546 \n",
      "\n",
      "Accuracy for task 4 epoch 2 = 0.8418999910354614 \n",
      "\n",
      "Accuracy for task 5 epoch 2 = 0.7892000079154968 \n",
      "\n",
      "*******************EPOCH 3***********************\n",
      "\n",
      "Epoch: 0003 train cost=1.750957788 test cost=1.661337944\n",
      "Accuracy for task 1 epoch 3 = 0.7390999794006348 \n",
      "\n",
      "Accuracy for task 2 epoch 3 = 0.8188999891281128 \n",
      "\n",
      "Accuracy for task 3 epoch 3 = 0.8546000123023987 \n",
      "\n",
      "Accuracy for task 4 epoch 3 = 0.852400004863739 \n",
      "\n",
      "Accuracy for task 5 epoch 3 = 0.8044999837875366 \n",
      "\n",
      "*******************EPOCH 4***********************\n",
      "\n",
      "Epoch: 0004 train cost=1.742256621 test cost=1.652135142\n",
      "Accuracy for task 1 epoch 4 = 0.7390999794006348 \n",
      "\n",
      "Accuracy for task 2 epoch 4 = 0.8148000240325928 \n",
      "\n",
      "Accuracy for task 3 epoch 4 = 0.84579998254776 \n",
      "\n",
      "Accuracy for task 4 epoch 4 = 0.8411999940872192 \n",
      "\n",
      "Accuracy for task 5 epoch 4 = 0.8069999814033508 \n",
      "\n",
      "*******************EPOCH 5***********************\n",
      "\n",
      "Epoch: 0005 train cost=1.734507665 test cost=1.645772840\n",
      "Accuracy for task 1 epoch 5 = 0.7279999852180481 \n",
      "\n",
      "Accuracy for task 2 epoch 5 = 0.8094000220298767 \n",
      "\n",
      "Accuracy for task 3 epoch 5 = 0.8478000164031982 \n",
      "\n",
      "Accuracy for task 4 epoch 5 = 0.8492000102996826 \n",
      "\n",
      "Accuracy for task 5 epoch 5 = 0.8185999989509583 \n",
      "\n"
     ]
    },
    {
     "data": {
      "image/png": "[encoded data removed]",
      "text/plain": [
       "<Figure size 432x288 with 1 Axes>"
      ]
     },
     "metadata": {
      "needs_background": "light"
     },
     "output_type": "display_data"
    }
   ],
   "source": [
    "with tf.compat.v1.Session() as sess:\n",
    "    tf.compat.v1.global_variables_initializer().run()\n",
    "    accuracy_list = []\n",
    "    for task in range(ntasks):\n",
    "        accuracy_list.append([])\n",
    "        print('***************Task {} begins******************'.format(task+1))\n",
    "        #learning_rate *=0.8\n",
    "        #optimizer_dropout = tf.compat.v1.train.MomentumOptimizer(learning_rate=learning_rate, momentum=0.8).minimize(cost_dropout)\n",
    "        #tf.compat.v1.global_variables_initializer().run()\n",
    "        for epoch in range(training_epochs):\n",
    "            train_avg_cost = 0\n",
    "            test_avg_cost = 0\n",
    "            nbatches = int(X_train[task].shape[0]/batch_size)\n",
    "            \n",
    "            for i, (Xbatch, Ybatch) in enumerate(generate_batches(X_train[task], Y_train, batch_size = 64)):\n",
    "                _,c,w = sess.run([optimizer_dropout, cost_dropout, weights], feed_dict = {x: Xbatch, y_: Ybatch, rate : 0.5})\n",
    "                train_avg_cost += c/nbatches\n",
    "                c = sess.run(cost_dropout, feed_dict={x: X_test[task], y_: Y_test, rate:0.0})\n",
    "                test_avg_cost += c/nbatches\n",
    "            correct_prediction = tf.equal(tf.argmax(ydrop,1),tf.argmax(y_,1))\n",
    "            print('*******************EPOCH {}***********************\\n'.format(epoch+1))\n",
    "            print(\"Epoch:\", '%04d' % (epoch+1), \"train cost={:.9f}\".format(train_avg_cost), \"test cost={:.9f}\".format(test_avg_cost))\n",
    "            for i in range(task+1):\n",
    "                accuracy = tf.reduce_mean(tf.cast(correct_prediction,tf.float32)).eval({x: X_test[i], y_: Y_test, rate: 0.0})\n",
    "                accuracy_list[i].append(accuracy)\n",
    "                print('Accuracy for task {} epoch {} = {} \\n'.format(i+1,epoch+1, accuracy))\n",
    "    total_epochs = len(accuracy_list[0])\n",
    "    plt.plot(list(range(1,total_epochs+1)),accuracy_list[0], label = 'task 1')\n",
    "    plt.plot(list(range(6,total_epochs+1)),accuracy_list[1], label = 'task 2')\n",
    "    plt.plot(list(range(11,total_epochs+1)),accuracy_list[2], label = 'task 3')\n",
    "    plt.plot(list(range(16,total_epochs+1)),accuracy_list[3], label = 'task 4')\n",
    "    plt.plot(list(range(21,total_epochs+1)),accuracy_list[4], label = 'task 5')\n",
    "    plt.show()\n",
    "            "
   ]
  },
  {
   "cell_type": "code",
   "execution_count": null,
   "id": "56c1fa5e-ae4a-42e2-84f2-eb03024d6239",
   "metadata": {},
   "outputs": [],
   "source": []
  }
 ],
 "metadata": {
  "kernelspec": {
   "display_name": "Python 3",
   "language": "python",
   "name": "python3"
  },
  "language_info": {
   "codemirror_mode": {
    "name": "ipython",
    "version": 3
   },
   "file_extension": ".py",
   "mimetype": "text/x-python",
   "name": "python",
   "nbconvert_exporter": "python",
   "pygments_lexer": "ipython3",
   "version": "3.9.1"
  }
 },
 "nbformat": 4,
 "nbformat_minor": 5
}
